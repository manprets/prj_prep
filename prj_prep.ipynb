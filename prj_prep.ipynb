{
 "cells": [
  {
   "cell_type": "raw",
   "metadata": {},
   "source": [
    "Question 1\n",
    "Given two strings s and t, determine whether some anagram of t is a substring of s. For example: if s = \"udacity\" and t = \"ad\", then the function returns True. Your function definition should look like: question1(s, t) and return a boolean True or False."
   ]
  },
  {
   "cell_type": "code",
   "execution_count": 1,
   "metadata": {
    "collapsed": false
   },
   "outputs": [
    {
     "name": "stdout",
     "output_type": "stream",
     "text": [
      "False\n"
     ]
    }
   ],
   "source": [
    "def question1(s,t):\n",
    "    if len(s)==0 or len(t)==0:\n",
    "        return False\n",
    "\n",
    "    #create a dictionary with key being the character in the string s\n",
    "    #and value being the number of times that particular character appears\n",
    "    #in the string s\n",
    "    char_dict_s={}\n",
    "    for char_in_s in s:\n",
    "        if char_in_s in char_dict_s.keys():\n",
    "            char_dict_s[char_in_s]=char_dict_s[char_in_s]+1\n",
    "        else:\n",
    "            char_dict_s[char_in_s]=1\n",
    "\n",
    "    #create a dictionary with key being the character in the string t\n",
    "    #and value being the number of times that particular character appears\n",
    "    #in the string t\n",
    "    char_dict_t={}\n",
    "    for char_in_t in t:\n",
    "        if char_in_t in char_dict_t.keys():\n",
    "            char_dict_t[char_in_t]=char_dict_t[char_in_t]+1\n",
    "        else:\n",
    "            char_dict_t[char_in_t]=1\n",
    "            \n",
    "    #look if characters in t are present in s\n",
    "    for char_in_t in char_dict_t.keys():\n",
    "        char_in_t_count = char_dict_t[char_in_t]\n",
    "        if char_in_t in char_dict_s.keys():\n",
    "            char_in_s_count = char_dict_s[char_in_t]\n",
    "            #count in s should be greater than or equal to count in t\n",
    "            if char_in_s_count<char_in_t_count:\n",
    "                return False\n",
    "    \n",
    "    len_t=len(t)\n",
    "    len_s=len(s)\n",
    "    #go through substrings in s\n",
    "    start=len_t-1\n",
    "    match_len=0\n",
    "    while(start<len_s):\n",
    "        if s[start] in char_dict_t.keys():\n",
    "             match_len=match_len+1\n",
    "             #move to next character\n",
    "             start=start-1\n",
    "        else:\n",
    "            #character is not present in t, move the sliding window ahead len_t places\n",
    "            start=start+len_t\n",
    "            match_len=0\n",
    "        \n",
    "        #print start, match_len\n",
    "        if match_len==len_t:\n",
    "            return True\n",
    "    return False\n",
    "\n",
    "s=\"udacity\"\n",
    "t=\"uy\"\n",
    "\n",
    "print question1(s,t)\n",
    "#answer should be: False"
   ]
  },
  {
   "cell_type": "code",
   "execution_count": 2,
   "metadata": {
    "collapsed": false
   },
   "outputs": [
    {
     "name": "stdout",
     "output_type": "stream",
     "text": [
      "True\n"
     ]
    }
   ],
   "source": [
    "s=\"udacity\"\n",
    "t=\"du\"\n",
    "\n",
    "print question1(s,t)\n",
    "#answer should be: True"
   ]
  },
  {
   "cell_type": "code",
   "execution_count": 3,
   "metadata": {
    "collapsed": false
   },
   "outputs": [
    {
     "name": "stdout",
     "output_type": "stream",
     "text": [
      "False\n",
      "False\n",
      "False\n"
     ]
    }
   ],
   "source": [
    "s=\"udacity\"\n",
    "t=\"udacty\"\n",
    "\n",
    "print question1(s,t)\n",
    "#answer should be: False\n",
    "\n",
    "s=\"udacity\"\n",
    "t=\"yticaduudacity\"\n",
    "\n",
    "print question1(s,t)\n",
    "#answer should be: False\n",
    "\n",
    "s=\"udacity\"\n",
    "t=\"\"\n",
    "\n",
    "print question1(s,t)\n",
    "#answer should be: False\n"
   ]
  },
  {
   "cell_type": "raw",
   "metadata": {},
   "source": [
    "Efficiency\n",
    "==========\n",
    "1.) The code scans all characters present in both the string s and t and creates dictionary. This operations is linear in the size of s and t.\n",
    "2.) During parsing of the string, the code checks to see if a particular character is already in the dictionary. This operation is in constant time as dictionaries are implemented as hash-maps in python.\n",
    "3.) Next, when both the dictionaries have been created, the code parses through characters in s and figures out if next len(t) characters in s are present in t. This is again in linear time with the size of s and lookups from dictionary happen in constant time as dictionaries are implemented as hash-maps in python.\n",
    "4.) Assuming, that the strings s and t come from a defined character set [a-z]. Hence the number of distinct characters (N) in it is constant. Therefore, the dictionaries would have a maximum length equal to N, which is constant.\n",
    "\n",
    "The overall performance of the algorithm in time is:  O(s+t)\n",
    "The overall performance of the algorithm in space is: O(1)\n"
   ]
  },
  {
   "cell_type": "code",
   "execution_count": null,
   "metadata": {
    "collapsed": true
   },
   "outputs": [],
   "source": []
  },
  {
   "cell_type": "raw",
   "metadata": {},
   "source": [
    "Question 2\n",
    "Given a string a, find the longest palindromic substring contained in a. Your function definition should look like question2(a), and return a string."
   ]
  },
  {
   "cell_type": "code",
   "execution_count": 4,
   "metadata": {
    "collapsed": false
   },
   "outputs": [
    {
     "data": {
      "text/plain": [
       "True"
      ]
     },
     "execution_count": 4,
     "metadata": {},
     "output_type": "execute_result"
    }
   ],
   "source": [
    "def is_palindrome(s,m):\n",
    "    \"\"\"returns True if string s of length m is a palindrome\"\"\"\n",
    "    palindrome=True\n",
    "    if m==1:\n",
    "        palindrome=True\n",
    "    else:\n",
    "        mid=m/2\n",
    "        counter=0\n",
    "        while(counter<mid):\n",
    "            #print counter,mid,s[counter],s[m-1-counter],palindrome\n",
    "            if s[counter]==s[m-1-counter]:\n",
    "                #mid=mid-1\n",
    "                pass\n",
    "            else:\n",
    "               palindrome=False \n",
    "            counter=counter+1\n",
    "    return palindrome\n",
    "\n",
    "s='aba'\n",
    "is_palindrome(s,len(s))"
   ]
  },
  {
   "cell_type": "code",
   "execution_count": 5,
   "metadata": {
    "collapsed": false
   },
   "outputs": [
    {
     "data": {
      "text/plain": [
       "'anana'"
      ]
     },
     "execution_count": 5,
     "metadata": {},
     "output_type": "execute_result"
    }
   ],
   "source": [
    "# Brute Force Approach:\n",
    "# The substring can be of length 1 to n (length of s)\n",
    "# For substr_len=m\n",
    "# For all sub_str of length substr_len\n",
    "# Find if above sub_str is a palindrome\n",
    "# A palindromic string is one which reads same from the both direction\n",
    "# can be done using stack as well\n",
    "def question2(a):\n",
    "    n=len(a) #length of string\n",
    "    \n",
    "    if n==0:\n",
    "        return None\n",
    "    if is_palindrome(a,n)==True:\n",
    "        return a\n",
    "    \n",
    "    for substr_len in range(n,0,-1):            \n",
    "        for start_idx in range(0,n-substr_len):\n",
    "            substr=a[start_idx:start_idx+substr_len]\n",
    "            #print substr_len,substr\n",
    "            \n",
    "            if is_palindrome(substr,substr_len)==True:\n",
    "                return substr\n",
    "    return None\n",
    "\n",
    "a=\"bananas\"\n",
    "question2(a)\n",
    "#answer should be: anana"
   ]
  },
  {
   "cell_type": "code",
   "execution_count": 6,
   "metadata": {
    "collapsed": false
   },
   "outputs": [
    {
     "name": "stdout",
     "output_type": "stream",
     "text": [
      "None\n",
      "aca\n",
      "abracarba\n"
     ]
    }
   ],
   "source": [
    "a=\"\"\n",
    "print question2(a)\n",
    "#answer should be: None\n",
    "\n",
    "a=\"abracadabra\"\n",
    "print question2(a)\n",
    "#answer could be one of: aca or ada\n",
    "\n",
    "a=\"abracarba\"\n",
    "print question2(a)\n",
    "#answer should be: abracarba"
   ]
  },
  {
   "cell_type": "raw",
   "metadata": {
    "collapsed": true
   },
   "source": [
    "Efficiency\n",
    "==========\n",
    "1.) The code calculates the length of the string. This operation is linear in size of string a.\n",
    "2.) Next, for a fixed length substr_len, the algorithm calculates all possible number of substrings. This is linear in size of string a\n",
    "3.) The algorithm then calculates if the substring is a palindrome, which is linear in size of string(substr_len)\n",
    "4.) Steps 2 and 3 when combined have overall complexity that is quadratic to the size of string(substr_len)\n",
    "5.) Steps 2 and 3 are performed for all substring lengths from len(str) to 2. Hence, the overall complexity of the algorithm is cubic to the size of string\n",
    "\n",
    "The overall performance of the algorithm in time is:  O(a^3)\n",
    "The overall performance of the algorithm in space is: O(a)\n"
   ]
  },
  {
   "cell_type": "code",
   "execution_count": null,
   "metadata": {
    "collapsed": true
   },
   "outputs": [],
   "source": []
  },
  {
   "cell_type": "code",
   "execution_count": null,
   "metadata": {
    "collapsed": true
   },
   "outputs": [],
   "source": []
  },
  {
   "cell_type": "raw",
   "metadata": {},
   "source": [
    "Question 3\n",
    "Given an undirected graph G, find the minimum spanning tree within G. A minimum spanning tree connects all vertices in a graph with the smallest possible total weight of edges. Your function should take in and return an adjacency list structured like this:\n",
    "\n",
    "{'A': [('B', 2)],\n",
    " 'B': [('A', 2), ('C', 5)], \n",
    " 'C': [('B', 5)]}\n",
    "Vertices are represented as unique strings. The function definition should be question3(G)"
   ]
  },
  {
   "cell_type": "raw",
   "metadata": {},
   "source": [
    "Source: Wikipedia\n",
    "The algorithm may informally be described as performing the following steps:\n",
    "Initialize a tree with a single vertex, chosen arbitrarily from the graph.\n",
    "Grow the tree by one edge: of the edges that connect the tree to vertices not yet in the tree, find the minimum-weight edge, and transfer it to the tree.\n",
    "Repeat step 2 (until all vertices are in the tree).\n",
    "\n",
    "In more detail, it may be implemented following the pseudocode below.\n",
    "Associate with each vertex v of the graph a number C[v] (the cheapest cost of a connection to v) and an edge E[v] (the edge providing that cheapest connection). To initialize these values, set all values of C[v] to +∞ (or to any number larger than the maximum edge weight) and set each E[v] to a special flag value indicating that there is no edge connecting v to earlier vertices.\n",
    "Initialize an empty forest F and a set Q of vertices that have not yet been included in F (initially, all vertices).\n",
    "Repeat the following steps until Q is empty:\n",
    "Find and remove a vertex v from Q having the minimum possible value of C[v]\n",
    "Add v to F and, if E[v] is not the special flag value, also add E[v] to F\n",
    "Loop over the edges vw connecting v to other vertices w. For each such edge, if w still belongs to Q and vw has smaller weight than C[w], perform the following steps:\n",
    "Set C[w] to the cost of edge vw\n",
    "Set E[w] to point to edge vw.\n",
    "Return F\n",
    "\n",
    "PRIM's ALGO\n",
    "select a randon node n0\n",
    "put it in visited={}\n",
    "Get list of edges, nodes that n0 is connected to\n",
    "Choose smallest edge that connects to an unvisited node\n",
    "Add node(new) to visited list\n",
    "Now look at nodes reachable from nodes in visited\n",
    "Pick smallest edge that connects to unvisited node\n",
    "*Do not pick an edge between nodes already present in visited list"
   ]
  },
  {
   "cell_type": "code",
   "execution_count": 7,
   "metadata": {
    "collapsed": false
   },
   "outputs": [
    {
     "name": "stdout",
     "output_type": "stream",
     "text": [
      "{'A': [('B', 2)], 'B': [('C', 5)]}\n"
     ]
    }
   ],
   "source": [
    "#get the edge with the smallest weight from edges_list that is next in mst\n",
    "#return shortest edge\n",
    "def get_shortest_edge(edges_list,visited):\n",
    "    #edge is a tuple (from_node, to_node, weight)\n",
    "    shortest_edge=('','',99999)\n",
    "    \n",
    "    for i in range(len(edges_list)):\n",
    "        if edges_list[i][1] not in visited:\n",
    "            if shortest_edge[2]>edges_list[i][2]:\n",
    "                shortest_edge=edges_list[i]\n",
    "    \n",
    "    return shortest_edge\n",
    "\n",
    "#add shortest edge to mst\n",
    "def add_to_mst(mst,shortest_edge):\n",
    "    if shortest_edge[0] in mst.keys():\n",
    "        mst[shortest_edge[0]].append((shortest_edge[1],shortest_edge[2]))\n",
    "    else:\n",
    "        mst[shortest_edge[0]]=[(shortest_edge[1],shortest_edge[2])]\n",
    "    \n",
    "    return mst\n",
    "    \n",
    "def question3(G):\n",
    "    mst={}\n",
    "    \n",
    "    if len(G.keys())==0:\n",
    "        return mst\n",
    "    \n",
    "    nodes_list=G.keys()\n",
    "    node=nodes_list[0]\n",
    "    visited=[node]\n",
    "    \n",
    "    while(len(visited)!=len(nodes_list)):\n",
    "        edges_list=[]\n",
    "        for v in visited:\n",
    "            #print v\n",
    "            e_list=G[v]\n",
    "            for e in e_list:\n",
    "                edges_list.append((v,e[0],e[1]))\n",
    "\n",
    "        #print edges_list,visited\n",
    "        #get shortest edge from list of edges\n",
    "        shortest_edge=get_shortest_edge(edges_list,visited)\n",
    "        visited.append(shortest_edge[1])\n",
    "        \n",
    "        #add shortest edge and node to mst\n",
    "        mst=add_to_mst(mst,shortest_edge)\n",
    "        \n",
    "    return mst\n",
    "\n",
    "G={'A': [('B', 2)], 'B': [('A', 2), ('C', 5)], 'C': [('B', 5)]}\n",
    "\n",
    "print question3(G)\n",
    "#answer should be: {'A': [('B', 2)], 'B': [('C', 5)]}\n"
   ]
  },
  {
   "cell_type": "code",
   "execution_count": 8,
   "metadata": {
    "collapsed": false
   },
   "outputs": [
    {
     "name": "stdout",
     "output_type": "stream",
     "text": [
      "{'A': [('B', 2), ('C', 3), ('D', 3)], 'C': [('E', 1), ('F', 6)], 'F': [('G', 9)]}\n",
      "{}\n"
     ]
    }
   ],
   "source": [
    "G={'A':[('B',2),('C',3),('D',3)],\n",
    "   'B':[('A',2),('C',4),('E',3)],\n",
    "   'C':[('A',3),('B',4),('D',5),('E',1),('F',6)],\n",
    "   'D':[('A',3),('C',5),('F',7)],\n",
    "   'E':[('B',4),('C',1),('F',8)],\n",
    "   'F':[('C',6),('D',7),('E',8),('G',9)],\n",
    "   'G':[('F',9)]\n",
    "}\n",
    "print question3(G)\n",
    "#answer should be: {'A': [('B', 2), ('C', 3), ('D', 3)], 'C': [('E', 1), ('F', 6)], 'F': [('G', 9)]}\n",
    "\n",
    "G={}\n",
    "print question3(G)\n",
    "#answer should be: {}\n"
   ]
  },
  {
   "cell_type": "raw",
   "metadata": {
    "collapsed": true
   },
   "source": [
    "Algorithm:\n",
    "==========\n",
    "Prim's algorithm has been implemented in the above code to find minimum spanning tree\n",
    "The algorithm is as follows: \n",
    "a.) Select a randon node n0, put it in visited list\n",
    "b.) Get list of edges, nodes that n0 is connected to\n",
    "c.) Choose smallest edge that connects to an unvisited node(new)\n",
    "d.) Add node(new) to visited list\n",
    "e.) Now look at nodes reachable from nodes in visited\n",
    "f.) Pick smallest edge that connects to unvisited node\n",
    "*Do not pick an edge between nodes already present in visited list\n",
    "g.) The algorithm stops when all nodes have been visited\n",
    "\n",
    "Implementation:\n",
    "===============\n",
    "First node from the graph is chosen and put in visited array.\n",
    "An edge_list array is populated that lists all edges going out from the nodes present in the visited array\n",
    "The shortest_edge from the above list is selected and added to the mst\n",
    "The get_shortest_edge function goes through all edges in the list and picks one which has the smallest edge weight and does not connect nodes already in the visited list\n",
    "The function add_to_mst adds the shortest edge to the minimum spanning tree variable mst\n",
    "\n",
    "Efficiency\n",
    "==========\n",
    "1.) Calculating edges_list: Each vertex can connect to maximum of |V|-1 edges, making the complexity O(|V|^2)\n",
    "2.) Find shortest edge: This can be performed in linear time\n",
    "3.) Add to mst: Constant time\n",
    "\n",
    "The overall performance of the algorithm in time is:  O(|V|^2)\n",
    "The overall performance of the algorithm in space is: O(|V|^2)\n"
   ]
  },
  {
   "cell_type": "code",
   "execution_count": null,
   "metadata": {
    "collapsed": true
   },
   "outputs": [],
   "source": []
  },
  {
   "cell_type": "raw",
   "metadata": {},
   "source": [
    "Question 4\n",
    "Find the least common ancestor between two nodes on a binary search tree. The least common ancestor is the farthest node from the root that is an ancestor of both nodes. For example, the root is a common ancestor of all nodes on the tree, but if both nodes are descendents of the root's left child, then that left child might be the lowest common ancestor. You can assume that both nodes are in the tree, and the tree itself adheres to all BST properties. The function definition should look like question4(T, r, n1, n2), where T is the tree represented as a matrix, where the index of the list is equal to the integer stored in that node and a 1 represents a child node, r is a non-negative integer representing the root, and n1 and n2 are non-negative integers representing the two nodes in no particular order. For example, one test case might be\n",
    "\n",
    "question4([[0, 1, 0, 0, 0],\n",
    "           [0, 0, 0, 0, 0],\n",
    "           [0, 0, 0, 0, 0],\n",
    "           [1, 0, 0, 0, 1],\n",
    "           [0, 0, 0, 0, 0]],\n",
    "          3,\n",
    "          1,\n",
    "          4)\n",
    "and the answer would be 3."
   ]
  },
  {
   "cell_type": "code",
   "execution_count": 9,
   "metadata": {
    "collapsed": false
   },
   "outputs": [
    {
     "data": {
      "text/plain": [
       "3"
      ]
     },
     "execution_count": 9,
     "metadata": {},
     "output_type": "execute_result"
    }
   ],
   "source": [
    "def find_lca(T,start,n1,n2):\n",
    "    lca_found=False\n",
    "    \n",
    "    counter=0\n",
    "    while(lca_found==False):\n",
    "        counter=counter+1\n",
    "        if start==n1 or start==n2:\n",
    "            lca=start\n",
    "            lca_found=True\n",
    "        elif start>min(n1,n2) and start<max(n1,n2):\n",
    "            lca=start\n",
    "            lca_found=True\n",
    "        elif start<n1 and start<n2:\n",
    "            #find lca in right tree\n",
    "            #print \"r \",(T[start][start:])\n",
    "            rchild=start+(T[start][start:]).index(1)\n",
    "            start=rchild\n",
    "        elif start>n1 and start>n2:\n",
    "            #find lca in left tree\n",
    "            #print \"l \",(T[start][:start])\n",
    "            lchild=(T[start][:start]).index(1)\n",
    "            start=lchild\n",
    "            \n",
    "        if counter==20:\n",
    "            break\n",
    "    \n",
    "    return lca\n",
    "\n",
    "def question4(T,r,n1,n2):\n",
    "    lca=find_lca(T,r,n1,n2)\n",
    "    return lca\n",
    "    \n",
    "question4([[0, 1, 0, 0, 0],\n",
    "           [0, 0, 0, 0, 0],\n",
    "           [0, 0, 0, 0, 0],\n",
    "           [1, 0, 0, 0, 1],\n",
    "           [0, 0, 0, 0, 0]],\n",
    "          3,\n",
    "          1,\n",
    "          4)\n",
    "#answer should be: 3"
   ]
  },
  {
   "cell_type": "code",
   "execution_count": 10,
   "metadata": {
    "collapsed": false
   },
   "outputs": [
    {
     "data": {
      "text/plain": [
       "0"
      ]
     },
     "execution_count": 10,
     "metadata": {},
     "output_type": "execute_result"
    }
   ],
   "source": [
    "question4([[0, 1, 0, 0, 0],\n",
    "           [0, 0, 0, 0, 0],\n",
    "           [0, 0, 0, 0, 0],\n",
    "           [1, 0, 0, 0, 1],\n",
    "           [0, 0, 0, 0, 0]],\n",
    "          3,\n",
    "          1,\n",
    "          0)\n",
    "#answer should be: 0"
   ]
  },
  {
   "cell_type": "code",
   "execution_count": 11,
   "metadata": {
    "collapsed": false
   },
   "outputs": [
    {
     "data": {
      "text/plain": [
       "8"
      ]
     },
     "execution_count": 11,
     "metadata": {},
     "output_type": "execute_result"
    }
   ],
   "source": [
    "question4([[0, 1, 0, 0, 0, 0, 0, 0, 0, 0],\n",
    "           [0, 0, 1, 0, 0, 0, 0, 0, 0, 0],\n",
    "           [0, 0, 0, 0, 0, 0, 0, 0, 0, 0],\n",
    "           [1, 0, 0, 0, 1, 0, 0, 0, 0, 0],\n",
    "           [0, 0, 0, 0, 0, 0, 0, 0, 0, 0],\n",
    "           [0, 0, 0, 1, 0, 0, 1, 0, 0, 0],\n",
    "           [0, 0, 0, 0, 0, 0, 0, 0, 1, 0],\n",
    "           [0, 0, 0, 0, 0, 0, 0, 0, 0, 0],\n",
    "           [0, 0, 0, 0, 0, 0, 0, 1, 0, 1],\n",
    "           [0, 0, 0, 0, 0, 0, 0, 0, 0, 0],\n",
    "          ],\n",
    "          5,\n",
    "          9,\n",
    "          7)\n",
    "#answer should be: 8"
   ]
  },
  {
   "cell_type": "raw",
   "metadata": {},
   "source": [
    "Algorithm:\n",
    "==========\n",
    "1.) The tree matrix T is parsed from root to calculate the least common ancestor as follows:\n",
    "    a.)if node.value equals one of the two input nodes, then node is lca\n",
    "    b.)if node value lies between the values in the two input nodes, then node is lca\n",
    "    c.)if both values are greater than node.value, parse the right subtree\n",
    "    d.)if both values are less than node.value, parse the left subtree\n",
    "2.) At node r, the rth array in T describes its relation with its children. The array left of node r, T[r][:r] will have its left child. The array right of node r, T[r][r:] will contain its right child.\n",
    "3.) The index of node r's left child is: (T[r][:r]).index(1) \n",
    "and the index of node r's right child is: r + (T[r][r:]).index(1)\n",
    "4.) The algorithm does not use any additional space other than local variables\n",
    "\n",
    "Efficiency:\n",
    "===========\n",
    "1.) find_lca: This function traverses through all nodes. For each node it scans an array to get indexes of 1s which represnt child. The complexity of this function is : O(nodes^2)\n",
    "\n",
    "The overall performance of the algorithm in time is:  O(nodes^2)\n",
    "The overall performance of the algorithm in space is: O(1)\n"
   ]
  },
  {
   "cell_type": "code",
   "execution_count": null,
   "metadata": {
    "collapsed": true
   },
   "outputs": [],
   "source": []
  },
  {
   "cell_type": "raw",
   "metadata": {},
   "source": [
    "Question 5\n",
    "Find the element in a singly linked list that's m elements from the end. For example, if a linked list has 5 elements, the 3rd element from the end is the 3rd element. The function definition should look like question5(ll, m), where ll is the first node of a linked list and m is the \"mth number from the end\". You should copy/paste the Node class below to use as a representation of a node in the linked list. Return the value of the node at that position.\n",
    "\n",
    "class Node(object):\n",
    "  def __init__(self, data):\n",
    "    self.data = data\n",
    "    self.next = None\n"
   ]
  },
  {
   "cell_type": "code",
   "execution_count": 12,
   "metadata": {
    "collapsed": false
   },
   "outputs": [
    {
     "name": "stdout",
     "output_type": "stream",
     "text": [
      "11\n",
      "12\n"
     ]
    }
   ],
   "source": [
    "class Node(object): \n",
    "    def __init__(self, val): \n",
    "        self.data = val \n",
    "        self.next = None\n",
    "\n",
    "class LinkedList(object):\n",
    "    def __init__(self,data):\n",
    "        head=Node(data)\n",
    "        self.head=head\n",
    "        self.next=None\n",
    "        #self.head=head\n",
    "        \n",
    "    def add_node(self,new_val):\n",
    "        curr=self.head\n",
    "        while(curr.next):\n",
    "            curr=curr.next\n",
    "        curr.next=Node(new_val)\n",
    "        \n",
    "    def print_list(self):\n",
    "        curr=self.head\n",
    "        plist=str(curr.data)+\"-\"\n",
    "        while(curr.next):\n",
    "            curr=curr.next\n",
    "            plist=plist+str(curr.data)+\"-\"\n",
    "        plist=plist[0:len(plist)-1]\n",
    "        \n",
    "        print plist\n",
    "        \n",
    "    def get_length(self):\n",
    "        length=1\n",
    "        curr=self.head\n",
    "        while(curr.next):\n",
    "            curr=curr.next\n",
    "            length=length+1\n",
    "        return length\n",
    "        \n",
    "    def get_mth_from_end(self, m):\n",
    "        #1st element from end=last element\n",
    "        #2nd element from end=one before last element, len-1 from head\n",
    "        #3rd element from end=two before last element, len-2 from head\n",
    "        #4th element from end=three before last element, len-3 from head\n",
    "        #5th element from end=four before last element, len-4 from head\n",
    "        \n",
    "        #steps to follow\n",
    "        #first: find length of linked list\n",
    "        #second: go to n-(m-1)=n-m+1 node\n",
    "        #(n-m+1)th node is n-m steps ahead\n",
    "        \n",
    "        length=self.get_length()\n",
    "        curr=self.head\n",
    "        counter=length-m\n",
    "        while(counter):\n",
    "            curr=curr.next\n",
    "            counter=counter-1\n",
    "        \n",
    "        return curr.data\n",
    "\n",
    "#create a linked list\n",
    "ll=LinkedList(1)\n",
    "#n=Node(10)\n",
    "#n.data=10\n",
    "#print n.data,ll.head.data\n",
    "ll.add_node(3)\n",
    "ll.add_node(4)\n",
    "ll.add_node(6)\n",
    "ll.add_node(7)\n",
    "ll.add_node(9)\n",
    "ll.add_node(11)\n",
    "ll.add_node(12)\n",
    "ll.add_node(15)\n",
    "#ll.print_list()\n",
    "#print ll.get_length()\n",
    "print ll.get_mth_from_end(3)\n",
    "#answer should be: 11\n",
    "print ll.get_mth_from_end(2)\n",
    "#answer should be: 12"
   ]
  },
  {
   "cell_type": "code",
   "execution_count": 13,
   "metadata": {
    "collapsed": false
   },
   "outputs": [
    {
     "name": "stdout",
     "output_type": "stream",
     "text": [
      "12\n",
      "None\n",
      "None\n",
      "None\n",
      "7\n"
     ]
    }
   ],
   "source": [
    "def question5(ll,m):\n",
    "    if ll==None:\n",
    "        return None\n",
    "    if m==0 or m>ll.get_length():\n",
    "        return None\n",
    "    \n",
    "    return ll.get_mth_from_end(m)\n",
    "\n",
    "print question5(ll,2)\n",
    "#answer should be: 12\n",
    "\n",
    "print question5(None,2)\n",
    "#answer should be: None\n",
    "\n",
    "print question5(ll,0)\n",
    "#answer should be: None\n",
    "\n",
    "print question5(ll,10)\n",
    "#answer should be: None\n",
    "\n",
    "print question5(ll,5)\n",
    "#answer should be: 7\n"
   ]
  },
  {
   "cell_type": "raw",
   "metadata": {
    "collapsed": true
   },
   "source": [
    "Algorithm:\n",
    "==========\n",
    "1.) find length n of linked list\n",
    "2.) mth node from end is the n-(m-1)=n-m+1 node from beginning\n",
    "\n",
    "Efficiency:\n",
    "===========\n",
    "\n",
    "The overall performance of the algorithm in time is:  O(n)\n",
    "The overall performance of the algorithm in space is: O(1)\n"
   ]
  },
  {
   "cell_type": "code",
   "execution_count": null,
   "metadata": {
    "collapsed": true
   },
   "outputs": [],
   "source": []
  }
 ],
 "metadata": {
  "kernelspec": {
   "display_name": "Python 2",
   "language": "python",
   "name": "python2"
  },
  "language_info": {
   "codemirror_mode": {
    "name": "ipython",
    "version": 2
   },
   "file_extension": ".py",
   "mimetype": "text/x-python",
   "name": "python",
   "nbconvert_exporter": "python",
   "pygments_lexer": "ipython2",
   "version": "2.7.11"
  }
 },
 "nbformat": 4,
 "nbformat_minor": 0
}
