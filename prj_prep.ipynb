{
 "cells": [
  {
   "cell_type": "markdown",
   "metadata": {},
   "source": [
    "Question 1\n",
    "Given two strings s and t, determine whether some anagram of t is a substring of s. For example: if s = \"udacity\" and t = \"ad\", then the function returns True. Your function definition should look like: question1(s, t) and return a boolean True or False."
   ]
  },
  {
   "cell_type": "code",
   "execution_count": 10,
   "metadata": {
    "collapsed": false
   },
   "outputs": [
    {
     "data": {
      "text/plain": [
       "True"
      ]
     },
     "execution_count": 10,
     "metadata": {},
     "output_type": "execute_result"
    }
   ],
   "source": [
    "def question1(s,t):\n",
    "    #create a dictionary with key being the character in the string s\n",
    "    #and value being the number of times that particular character appears\n",
    "    #in the string s\n",
    "    if len(s)==0:\n",
    "        return False\n",
    "    \n",
    "    char_dict_s={}\n",
    "    for char_in_s in s:\n",
    "        if char_in_s in char_dict_s.keys():\n",
    "            char_dict_s[char_in_s]=char_dict_s[char_in_s]+1\n",
    "        else:\n",
    "            char_dict_s[char_in_s]=1\n",
    "    \n",
    "    char_dict_t={}\n",
    "    for char_in_t in t:\n",
    "        if char_in_t in char_dict_t.keys():\n",
    "            char_dict_t[char_in_t]=char_dict_t[char_in_t]+1\n",
    "        else:\n",
    "            char_dict_t[char_in_t]=1\n",
    "            \n",
    "    #look if characters in t are present in s\n",
    "    for char_in_t in char_dict_t.keys():\n",
    "        char_in_t_count = char_dict_t[char_in_t]\n",
    "        if char_in_t in char_dict_s.keys():\n",
    "            char_in_s_count = char_dict_s[char_in_t]\n",
    "            #count in s should be greater than or equal to count in t\n",
    "            if char_in_s_count>=char_in_t_count:\n",
    "                pass\n",
    "            else:\n",
    "                return False\n",
    "        else:\n",
    "            return False\n",
    "    \n",
    "    \n",
    "    return True\n",
    "\n",
    "s=\"udacity\"\n",
    "t=\"ad\"\n",
    "question1(s,t)\n"
   ]
  },
  {
   "cell_type": "markdown",
   "metadata": {},
   "source": [
    "Question 2\n",
    "Given a string a, find the longest palindromic substring contained in a. Your function definition should look like question2(a), and return a string."
   ]
  },
  {
   "cell_type": "code",
   "execution_count": 60,
   "metadata": {
    "collapsed": false
   },
   "outputs": [
    {
     "data": {
      "text/plain": [
       "True"
      ]
     },
     "execution_count": 60,
     "metadata": {},
     "output_type": "execute_result"
    }
   ],
   "source": [
    "def is_palindrome(s,m):\n",
    "    \"\"\"returns True if string s of length m is a palindrome\"\"\"\n",
    "    palindrome=True\n",
    "    if m==1:\n",
    "        palindrome=True\n",
    "    else:\n",
    "        mid=m/2\n",
    "        counter=0\n",
    "        while(counter<mid):\n",
    "            #print counter,mid,s[counter],s[m-1-counter],palindrome\n",
    "            if s[counter]==s[m-1-counter]:\n",
    "                #mid=mid-1\n",
    "                pass\n",
    "            else:\n",
    "               palindrome=False \n",
    "            counter=counter+1\n",
    "    return palindrome\n",
    "\n",
    "s='aba'\n",
    "is_palindrome(s,len(s))"
   ]
  },
  {
   "cell_type": "code",
   "execution_count": 77,
   "metadata": {
    "collapsed": false
   },
   "outputs": [
    {
     "data": {
      "text/plain": [
       "'anana'"
      ]
     },
     "execution_count": 77,
     "metadata": {},
     "output_type": "execute_result"
    }
   ],
   "source": [
    "# Brute Force Approach:\n",
    "# The substring can be of length 1 to n (length of s)\n",
    "# For substr_len=m\n",
    "# For all sub_str of length substr_len\n",
    "# Find if above sub_str is a palindrome\n",
    "# A palindromic string is one which reads same from the both direction\n",
    "# can be done using stack as well\n",
    "def question2(a):\n",
    "    n=len(a) #length of string\n",
    "    \n",
    "    for substr_len in range(n,1,-1):\n",
    "        for start_idx in range(0,n-substr_len):\n",
    "            substr=a[start_idx:start_idx+substr_len]\n",
    "            #print substr_len,substr\n",
    "            \n",
    "            if is_palindrome(substr,substr_len)==True:\n",
    "                return substr\n",
    "    return None\n",
    "\n",
    "a=\"bananas\"\n",
    "question2(a)\n"
   ]
  },
  {
   "cell_type": "code",
   "execution_count": null,
   "metadata": {
    "collapsed": true
   },
   "outputs": [],
   "source": []
  },
  {
   "cell_type": "code",
   "execution_count": null,
   "metadata": {
    "collapsed": true
   },
   "outputs": [],
   "source": []
  },
  {
   "cell_type": "code",
   "execution_count": null,
   "metadata": {
    "collapsed": true
   },
   "outputs": [],
   "source": []
  },
  {
   "cell_type": "raw",
   "metadata": {},
   "source": [
    "Question 3\n",
    "Given an undirected graph G, find the minimum spanning tree within G. A minimum spanning tree connects all vertices in a graph with the smallest possible total weight of edges. Your function should take in and return an adjacency list structured like this:\n",
    "\n",
    "{'A': [('B', 2)],\n",
    " 'B': [('A', 2), ('C', 5)], \n",
    " 'C': [('B', 5)]}\n",
    "Vertices are represented as unique strings. The function definition should be question3(G)"
   ]
  },
  {
   "cell_type": "raw",
   "metadata": {},
   "source": [
    "The algorithm may informally be described as performing the following steps:\n",
    "Initialize a tree with a single vertex, chosen arbitrarily from the graph.\n",
    "Grow the tree by one edge: of the edges that connect the tree to vertices not yet in the tree, find the minimum-weight edge, and transfer it to the tree.\n",
    "Repeat step 2 (until all vertices are in the tree).\n",
    "In more detail, it may be implemented following the pseudocode below.\n",
    "Associate with each vertex v of the graph a number C[v] (the cheapest cost of a connection to v) and an edge E[v] (the edge providing that cheapest connection). To initialize these values, set all values of C[v] to +∞ (or to any number larger than the maximum edge weight) and set each E[v] to a special flag value indicating that there is no edge connecting v to earlier vertices.\n",
    "Initialize an empty forest F and a set Q of vertices that have not yet been included in F (initially, all vertices).\n",
    "Repeat the following steps until Q is empty:\n",
    "Find and remove a vertex v from Q having the minimum possible value of C[v]\n",
    "Add v to F and, if E[v] is not the special flag value, also add E[v] to F\n",
    "Loop over the edges vw connecting v to other vertices w. For each such edge, if w still belongs to Q and vw has smaller weight than C[w], perform the following steps:\n",
    "Set C[w] to the cost of edge vw\n",
    "Set E[w] to point to edge vw.\n",
    "Return F"
   ]
  },
  {
   "cell_type": "code",
   "execution_count": null,
   "metadata": {
    "collapsed": true
   },
   "outputs": [],
   "source": []
  },
  {
   "cell_type": "code",
   "execution_count": 39,
   "metadata": {
    "collapsed": true
   },
   "outputs": [],
   "source": [
    "def question3(G):\n",
    "    mst={}\n",
    "    \n",
    "    return mst"
   ]
  },
  {
   "cell_type": "code",
   "execution_count": 40,
   "metadata": {
    "collapsed": false
   },
   "outputs": [
    {
     "name": "stdout",
     "output_type": "stream",
     "text": [
      "{}\n"
     ]
    }
   ],
   "source": [
    "G={'A': [('B', 2)], 'B': [('A', 2), ('C', 5)], 'C': [('B', 5)]}\n",
    "\n",
    "print question3(G)"
   ]
  },
  {
   "cell_type": "raw",
   "metadata": {},
   "source": [
    "Question 4\n",
    "Find the least common ancestor between two nodes on a binary search tree. The least common ancestor is the farthest node from the root that is an ancestor of both nodes. For example, the root is a common ancestor of all nodes on the tree, but if both nodes are descendents of the root's left child, then that left child might be the lowest common ancestor. You can assume that both nodes are in the tree, and the tree itself adheres to all BST properties. The function definition should look like question4(T, r, n1, n2), where T is the tree represented as a matrix, where the index of the list is equal to the integer stored in that node and a 1 represents a child node, r is a non-negative integer representing the root, and n1 and n2 are non-negative integers representing the two nodes in no particular order. For example, one test case might be\n",
    "\n",
    "question4([[0, 1, 0, 0, 0],\n",
    "           [0, 0, 0, 0, 0],\n",
    "           [0, 0, 0, 0, 0],\n",
    "           [1, 0, 0, 0, 1],\n",
    "           [0, 0, 0, 0, 0]],\n",
    "          3,\n",
    "          1,\n",
    "          4)\n",
    "and the answer would be 3."
   ]
  },
  {
   "cell_type": "code",
   "execution_count": null,
   "metadata": {
    "collapsed": true
   },
   "outputs": [],
   "source": []
  },
  {
   "cell_type": "raw",
   "metadata": {},
   "source": [
    "Question 5\n",
    "Find the element in a singly linked list that's m elements from the end. For example, if a linked list has 5 elements, the 3rd element from the end is the 3rd element. The function definition should look like question5(ll, m), where ll is the first node of a linked list and m is the \"mth number from the end\". You should copy/paste the Node class below to use as a representation of a node in the linked list. Return the value of the node at that position.\n",
    "\n",
    "class Node(object):\n",
    "  def __init__(self, data):\n",
    "    self.data = data\n",
    "    self.next = None\n"
   ]
  },
  {
   "cell_type": "code",
   "execution_count": 32,
   "metadata": {
    "collapsed": false
   },
   "outputs": [
    {
     "name": "stdout",
     "output_type": "stream",
     "text": [
      "1-3-4-6-7-9-11-12-15\n",
      "9\n",
      "11\n",
      "12\n"
     ]
    }
   ],
   "source": [
    "class Node(object): \n",
    "    def __init__(self, val): \n",
    "        self.data = val \n",
    "        self.next = None\n",
    "\n",
    "class LinkedList(object):\n",
    "    def __init__(self,data):\n",
    "        head=Node(data)\n",
    "        self.head=head\n",
    "        self.next=None\n",
    "        #self.head=head\n",
    "        \n",
    "    def add_node(self,new_val):\n",
    "        curr=self.head\n",
    "        while(curr.next):\n",
    "            curr=curr.next\n",
    "        curr.next=Node(new_val)\n",
    "        \n",
    "    def print_list(self):\n",
    "        curr=self.head\n",
    "        plist=str(curr.data)+\"-\"\n",
    "        while(curr.next):\n",
    "            curr=curr.next\n",
    "            plist=plist+str(curr.data)+\"-\"\n",
    "        plist=plist[0:len(plist)-1]\n",
    "        \n",
    "        print plist\n",
    "        \n",
    "    def get_length(self):\n",
    "        length=1\n",
    "        curr=self.head\n",
    "        while(curr.next):\n",
    "            curr=curr.next\n",
    "            length=length+1\n",
    "        return length\n",
    "        \n",
    "    def get_mth_from_end(self, m):\n",
    "        #1st element from end=last element\n",
    "        #2nd element from end=one before last element, len-1 from head\n",
    "        #3rd element from end=two before last element, len-2 from head\n",
    "        #4th element from end=three before last element, len-3 from head\n",
    "        #5th element from end=four before last element, len-4 from head\n",
    "        \n",
    "        #steps to follow\n",
    "        #first: find length of linked list\n",
    "        #second: go to n-(m-1)=n-m+1 node\n",
    "        #(n-m+1)th node is n-m steps ahead\n",
    "        \n",
    "        length=self.get_length()\n",
    "        curr=self.head\n",
    "        counter=length-m\n",
    "        while(counter):\n",
    "            curr=curr.next\n",
    "            counter=counter-1\n",
    "        \n",
    "        return curr.data\n",
    "\n",
    "#create a linked list\n",
    "ll=LinkedList(1)\n",
    "#n=Node(10)\n",
    "#n.data=10\n",
    "#print n.data,ll.head.data\n",
    "ll.add_node(3)\n",
    "ll.add_node(4)\n",
    "ll.add_node(6)\n",
    "ll.add_node(7)\n",
    "ll.add_node(9)\n",
    "ll.add_node(11)\n",
    "ll.add_node(12)\n",
    "ll.add_node(15)\n",
    "ll.print_list()\n",
    "print ll.get_length()\n",
    "print ll.get_mth_from_end(3)\n",
    "print ll.get_mth_from_end(2)"
   ]
  },
  {
   "cell_type": "code",
   "execution_count": 36,
   "metadata": {
    "collapsed": false
   },
   "outputs": [
    {
     "name": "stdout",
     "output_type": "stream",
     "text": [
      "12\n"
     ]
    }
   ],
   "source": [
    "def question5(ll,m):\n",
    "    return ll.get_mth_from_end(m)\n",
    "\n",
    "print question5(ll,2)"
   ]
  },
  {
   "cell_type": "code",
   "execution_count": 23,
   "metadata": {
    "collapsed": true
   },
   "outputs": [],
   "source": []
  },
  {
   "cell_type": "code",
   "execution_count": null,
   "metadata": {
    "collapsed": true
   },
   "outputs": [],
   "source": []
  }
 ],
 "metadata": {
  "kernelspec": {
   "display_name": "Python 2",
   "language": "python",
   "name": "python2"
  },
  "language_info": {
   "codemirror_mode": {
    "name": "ipython",
    "version": 2
   },
   "file_extension": ".py",
   "mimetype": "text/x-python",
   "name": "python",
   "nbconvert_exporter": "python",
   "pygments_lexer": "ipython2",
   "version": "2.7.11"
  }
 },
 "nbformat": 4,
 "nbformat_minor": 0
}
